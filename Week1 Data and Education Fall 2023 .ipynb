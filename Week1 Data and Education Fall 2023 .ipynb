{
  "metadata": {
    "language_info": {
      "codemirror_mode": {
        "name": "python",
        "version": 3
      },
      "file_extension": ".py",
      "mimetype": "text/x-python",
      "name": "python",
      "nbconvert_exporter": "python",
      "pygments_lexer": "ipython3",
      "version": "3.8"
    },
    "kernelspec": {
      "name": "python",
      "display_name": "Python (Pyodide)",
      "language": "python"
    }
  },
  "nbformat_minor": 4,
  "nbformat": 4,
  "cells": [
    {
      "cell_type": "markdown",
      "source": "# Week 1: Setting the Table\n![tools](https://images.unsplash.com/photo-1576867757603-05b134ebc379?ixlib=rb-4.0.3&ixid=M3wxMjA3fDB8MHxzZWFyY2h8Nnx8ZGlubmVyJTIwdGFibGV8ZW58MHx8MHx8fDA%3D&auto=format&fit=crop&w=900&q=80)\n\nThe goal for this week is to set the table, so to speak. We will be establishing a foundation for what we are up to in this course, both in terms of big ideas (what do we mean by data literacy? how can data literacy improve teaching and learning?) and tools.\n\n## Work for Week 1\n\n### 1. Readings\n![books](https://images.unsplash.com/photo-1457369804613-52c61a468e7d?ixlib=rb-4.0.3&ixid=M3wxMjA3fDB8MHxwaG90by1wYWdlfHx8fGVufDB8fHx8fA%3D%3D&auto=format&fit=crop&w=550&q=80)\nTo get up started, we are going to read two texts.\n\n* [Teaching Data Literacy: A Guide for Educators](https://dataschools.education/wp-content/uploads/2023/06/Teach_Data_Literacy_A_Guide_For_Primary_Teachers.pdf). This guide was put togehter to by an organization called [Data Education for Schools(https://dataschools.education/) which works with educators in the UK in support of their efforts to provide high quality Computer Science Educator for their K-12 students (although they are not called that there).\n\nAs you read this guide, think about: what do they mean when they talk about data? how are they thinking about conceptualizing and operationalizing data literacy with students? what struck you about this guide? what questions do you have about it?\n\n\n* [Intro to Data Science (from Towards Data Science)](https://towardsdatascience.com/intro-to-data-science-531079c38b22). Throughout this course, we will be making good use of the resources provided by the folks from Intro to Data Science. I think it will be a helpful way of building a common vocabulary about what we mean by *data science*.\n\nAs you read this introduction, think about: what strikes you about these concepts? which are familiar to you and which are new to you?\n\n### 2. Reflections\n![reflection](https://images.unsplash.com/photo-1515162816999-a0c47dc192f7?ixlib=rb-4.0.3&ixid=M3wxMjA3fDB8MHxzZWFyY2h8Mnx8cmVmbGVjdGlvbnxlbnwwfHwwfHx8MA%3D%3D&auto=format&fit=crop&w=550&q=60)\n\nFor both texts, please use these prompts I have provided to create a thoughtful and substantive reflection. You will share your work in Slack. See \"Sharing Your Work\" below.\n\n### 3. Challenge - Visualizing Data with Common Objects\n\n<img src=\"https://flowingdata.com/wp-content/uploads/2017/06/Bladder-e1523574916903-720x597.png\" width=\"550\" height=\"340\">\n\nToo often we think of data visualization as a technological process instead of a human one. So, your task is to find some data that are of some interest to you (they can be education related or not). Then you will create at least two ways of visualizing these data using everyday objects. (See this example from [Flowing Data](https://flowingdata.com/2018/04/17/visualizing-differences/)). Play around, be creative, share your creations, and share your thoughts about creating them.\n\n## Sharing Your Work\n![typewriter](https://plus.unsplash.com/premium_photo-1682125856519-73f77e8ee6b6?ixlib=rb-4.0.3&ixid=M3wxMjA3fDB8MHxzZWFyY2h8MTN8fHR5cGV3cml0ZXJ8ZW58MHx8MHx8fDA%3D&auto=format&fit=crop&w=800&q=60)\n\nFor this course, we will be using [Slack](https://slack.com/) as our primary communication tool. \nTo join our slack channel for this course (called **Data and Education - Fall 2023**), use this [join link](https://join.slack.com/t/dataandeducat-2cb8715/shared_invite/zt-22uvgikja-jZkQWGsmdppwxoT4NdPYhQ). If you do not already have a Slack account, it will prompt you to set one up (it's free). I also strongly encourage you to download the mobile and desktop apps. You might also find this [Quick Start Guide](https://slack.com/help/articles/360059928654-How-to-use-Slack--your-quick-start-guide) helpful.\n\nOnce you are all set up, please post a brief **intro** in the *intros* channel. You can introduce yourself however you want. Please also include what you are hoping to accomplish in this course.\n\n### Posting Reflections and Visualizations\nNow that you are set up in Slack, please share your reflections on the texts and your Visualization project in the #learining-about-data-and-education channel. \nFeel free to respond to one another and/or ask questions there as well.\n\n***This work is due by Monday, September 18th, end of day.***\n\n",
      "metadata": {}
    }
  ]
}