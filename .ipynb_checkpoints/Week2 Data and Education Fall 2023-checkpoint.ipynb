{
 "cells": [
  {
   "cell_type": "markdown",
   "metadata": {},
   "source": [
    "# Week 2: Text as Data, Part 1 (Unplugged)\n",
    "\n",
    "<img src=\"https://i.imgur.com/puh1PIN.png\" width=\"650\" height=\"340\">\n",
    "\n",
    "Data analysis and data visualization can reveal patterns and insights into things that be hard to see just looking at raw data. A shopping list is an example of this. All the stuff stored in your refrigerator and cabinets and pantries can be hard to grasp, but creating a shopping list when something is used up or needed represents a way of access those *data* in meaningful ways.\n",
    "\n",
    "The goal of this week is to start our exploration of data analysis and visualization. Before we get to big data sets and computational tools, we will use some text as data and low tech tools (like markers and even crayons) to investigate them.\n",
    "\n",
    "## Work for Week 2 - Unplugged Data Analysis of Text\n",
    "\n",
    "<img src=\"https://images.unsplash.com/photo-1610116306796-6fea9f4fae38?ixlib=rb-4.0.3&ixid=M3wxMjA3fDB8MHxwaG90by1wYWdlfHx8fGVufDB8fHx8fA%3D%3D&auto=format&fit=crop&w=2070&q=80\" width=\"650\" height=\"450\">\n",
    "\n",
    "\n",
    "### Chunk 1: Brief Introduction to Text as Data\n",
    "\n",
    "1.  Reading. Read [this brief introduction](http://toolingup.stanford.edu/?page_id=981) to text analysis, which is from Stanford University's department of Digital Humanities. This will provide us with a common way of talking about textual analysis. Read through sections 1-8. I also encourage you to listen to [the 7-minute linked Radiolab story](https://www.npr.org/2010/06/01/127211884/agatha-christie-and-nuns-tell-a-tale-of-alzheimers) on the evolution of Agatha Christie's writing style as she aged.\n",
    "\n",
    "\n",
    "### Chunk 2: Analyzing Moby Dick (just one paragraph)\n",
    "\n",
    "<img src=\"https://i.imgur.com/51lIb9H.jpeg\" width=\"650\" height=\"340\">\n",
    "\n",
    "Now, we will do our own unplugged textual analyis on a common text - Chapter 1 of Herman Melville's Moby Dick (which you can find here via Project Gutenberg). https://www.gutenberg.org/cache/epub/2701/pg2701-images.html\n",
    "Actually, we will be focusing our attention on just the first paragraph of Chapter 1.\n",
    "\n",
    "We will perform this analysis in a number of ways:\n",
    "\n",
    "1. **Listening**. Words have particular sounds, and sentences and paragraphs have cadences, tones, and rhythms. Read this paragraph aloud, and/or have someone read it aloud to you, and/or listen to this audiobook recording (https://ia801609.us.archive.org/19/items/moby_dick_librivox/mobydick_001_002_melville_64kb.mp3). What do you hear in this passage? What meaning do you perceive in the cadences, tones, and rhythms of this first paragraph of this first chapter of the book?\n",
    "\n",
    "2. **Character**. Do another reading of this first paragraph. What do you now know about the character of Ismael from what he says and how he expresses himself in this first person narration? What evidence for you have for what you know about him from the text itself?\n",
    "\n",
    "3. **Features of Text**. Basic text analysis begins with looking at the features of text. With just paper and writing implements (pens, pencils, markers, crayons, etc.) perform these basic text analysis tasks:\n",
    "\n",
    "    - *Word Count*: How many words are in this paragraph?\n",
    "    - *Sentence Count*: How many sentences are in this paragraph?\n",
    "    - *Words per Sentence*: For each sentence, determine the number of words\n",
    "    - *Parts of Speech*. Highlight or underline each part of speech (noun, verb, adjective, adverb) using a different color of pen, pencil, marker, highlighter, or crayon. Take of picture of your \"analysis\" to share with us. Then count each of the parts of speech.\n",
    "\n",
    "###  Chunk 3: What Did You Learn?\n",
    "\n",
    "Now that you have performed this basic analysis of the text of the first chapter of Moby Dick, what did you learn? What patterns did your analysis reveal? In what ways did it reveal something about the text to you? What would you like to know more about? How might you extend this type of analysis.\n",
    "\n",
    "\n",
    "###  Chunk 4: A Preview of Next Week -- Computational Tools for Textual Analysis\n",
    "\n",
    "<img src=\"https://upload.wikimedia.org/wikipedia/commons/c/c4/Voyant_Tools.png\" width=\"650\" height=\"450\">\n",
    "\n",
    "There are a great many of computational tools that allow for this type of textual analysis, and we will be learning to do this type of work in Python and R soon enough. In the meantime, if you wish, you can play with a tool called [Voyant-Tools](https://voyant-tools.org) which provides several very powerful ways of computationally analyzing text. Here's a [Getting Started Guide](https://voyant-tools.org/docs/#!/guide/start). Feel free to further explore Moby Dick, which you can find [here](https://www.gutenberg.org/cache/epub/2701/pg2701-images.html). Share anything you end up doing in Voyant-Tools.\n",
    "\n",
    "\n",
    "### Posting Reflections and Visualizations\n",
    "You will share your analysis and reflections using the same document you began for the Week 1 work. Be as generous as you can with your sharing -- show pictures, notes, etc.\n",
    "\n",
    "Now that you are set up in Slack, please share your reflections on the texts and your Visualization project in the #learining-about-data-and-education channel. \n",
    "Feel free to respond to one another and/or ask questions there as well.\n",
    "\n",
    "***This work is due by Monday, September 25th, end of day.***\n",
    "\n"
   ]
  },
  {
   "cell_type": "code",
   "execution_count": null,
   "metadata": {},
   "outputs": [],
   "source": []
  }
 ],
 "metadata": {
  "kernelspec": {
   "display_name": "Python 3 (ipykernel)",
   "language": "python",
   "name": "python3"
  },
  "language_info": {
   "codemirror_mode": {
    "name": "ipython",
    "version": 3
   },
   "file_extension": ".py",
   "mimetype": "text/x-python",
   "name": "python",
   "nbconvert_exporter": "python",
   "pygments_lexer": "ipython3",
   "version": "3.10.12"
  }
 },
 "nbformat": 4,
 "nbformat_minor": 4
}
