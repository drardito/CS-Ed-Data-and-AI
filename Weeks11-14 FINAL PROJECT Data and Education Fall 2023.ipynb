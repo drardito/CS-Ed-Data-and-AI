{
 "cells": [
  {
   "cell_type": "markdown",
   "metadata": {},
   "source": [
    "# Weeks 11-14: Final Project\n",
    "\n",
    "<img src=\"https://images.unsplash.com/photo-1497219055242-93359eeed651?q=80&w=2049&auto=format&fit=crop&ixlib=rb-4.0.3&ixid=M3wxMjA3fDB8MHxwaG90by1wYWdlfHx8fGVufDB8fHx8fA%3D%3D\" width=\"750\" height=\"540\">\n",
    "\n",
    "\n",
    "As a teacher and then teacher educator, I have always been fascinated by apprenticeships as deep learning experiences. As you likely know, [apprenticeships](https://en.wikipedia.org/wiki/Apprenticeship) go back to the Middle Ages as reliable structures for knowledge and skills to pass from master craftspeople and experts to novices. For example, if you wanted to become a blacksmith, you were apprenticed to a master blacksmith. An apprenticeship was deemed completed when the apprentice demonstrated their knowledge and skills by means of a masterpiece. Upon successful completion, the former apprentice was deemed a [master craftsman (craftsperson)](https://en.wikipedia.org/wiki/Master_craftsman).\n",
    "\n",
    "This tradition is the intention of this final project. You have spent weeks now learning to analyze and visualize various data using various kinds of tools and now it is time for your to create your masterpieces.\n",
    "\n",
    "\n",
    "## Your Masterwork\n",
    "\n",
    "<img src=\"https://plus.unsplash.com/premium_photo-1670738772747-c81429db3725?q=80&w=2071&auto=format&fit=crop&ixlib=rb-4.0.3&ixid=M3wxMjA3fDB8MHxwaG90by1wYWdlfHx8fGVufDB8fHx8fA%3D%3D\" width=\"750\" height=\"540\">\n",
    "\n",
    "Your final project will have two components:\n",
    "\n",
    "1. *Demonstrating your knowledge and proficiency* in being able to analyze and visualze various kinds of data using the tools we have been exploring in class; and\n",
    "2. *Translating some of what you have learned* into powerful and effective learning experiences for your students.\n",
    "\n",
    "\n",
    "### Component 1: *Showing What You Know*\n",
    "\n",
    "<img src=\"https://images.unsplash.com/photo-1501492765677-f07c5f3d87db?q=80&w=2076&auto=format&fit=crop&ixlib=rb-4.0.3&ixid=M3wxMjA3fDB8MHxwaG90by1wYWdlfHx8fGVufDB8fHx8fA%3D%3D\" width=\"650\" height=\"340\">\n",
    "\n",
    "\n",
    "Here is the work for this Chunk:\n",
    "\n",
    "1. *Analyze and Visualize*. For this chunk, you will identify a data set that interests you and that you would like to explore. Given our work so far, this can be text as data or data as data or both. You will then explore the data in order to formulate the questions you will use to interrogate it. Then, you will use one or more of the tools we have explored together in this course to perform your analysis and visualization of those interrogations of the data. As before, keep track of and share the code you generate, samples of the output from that code, and any error messages you received and how you work to debug/troubleshoot them, along with your *final* visualzations.\n",
    "\n",
    "2. *Sharing*. Please be sure to collect artifacts of your work for this portion masterwork, along with a reflection(s) that discusses the work you have done there. For this chunck, you will package all of this up with a reflection on the work you engaged in, what you learned, what questions you now have, and where you would go next.\n",
    "\n",
    "\n",
    "\n",
    "### Component 2: *Designing Learning Experiences\"\n",
    "\n",
    "<img src=\"https://plus.unsplash.com/premium_photo-1676322399793-3ff6183f9f39?q=80&w=2070&auto=format&fit=crop&ixlib=rb-4.0.3&ixid=M3wxMjA3fDB8MHxwaG90by1wYWdlfHx8fGVufDB8fHx8fA%3D%3D\" width=\"650\" height=\"340\">\n",
    "\n",
    "\n",
    "Here is the work for this Chunk:\n",
    "\n",
    "\n",
    "1. *Planning for Learning*. Now it is time to translate what you have been doing and learning and thinking about into powerful learning experiences for your students. Your task here is to design a two to three week project that engages your students in data: what it is, the ways it is collected, how to interrogate it, and how to create visualizations the demonstrate these interrogations. Be sure to correlate this unit to one or more of the [New York State Computer Science/Digital Fluency Learning Standards](https://www.nysed.gov/curriculum-instruction/computer-science-and-digital-fluency-learning-standards). The format you use for the design of this unit is up to you. But whichever format you use, I should be able to see how you are orchestrating the various pieces of the unit into a cohesive whole.\n",
    "\n",
    "2. *Sharing*. Please be sure to collect artifacts of your work for this portion of your masterwork, along with a reflection(s) that discusses the work you have done there. For this chunck, you will package all of this up with a reflection on the work you engaged in, what you learned, what questions you now have, and where you would go next.\n",
    "\n",
    "\n",
    "\n",
    "### Posting Reflections and Visualizations\n",
    "\n",
    "<img src=\"https://images.unsplash.com/photo-1452696193712-6cabf5103b63?q=80&w=1974&auto=format&fit=crop&ixlib=rb-4.0.3&ixid=M3wxMjA3fDB8MHxwaG90by1wYWdlfHx8fGVufDB8fHx8fA%3D%3D\" width=\"650\" height=\"340\">\n",
    "\n",
    "You will continue share your analysis and reflections using the same document you began for the Week 1 work. Be as generous as you can with your sharing -- show pictures, notes, etc.\n",
    "\n",
    "Now that you are set up in Slack, please share your reflections on the texts and your data analysis and visualization work in the #learining-about-data-and-education channel. \n",
    "\n",
    "Feel free to respond to one another and/or ask questions there as well.\n",
    "\n",
    "**You have three weeks to complete this work. This work is due by Friday, December 15, end of day.**\n"
   ]
  }
 ],
 "metadata": {
  "kernelspec": {
   "display_name": "Python 3 (ipykernel)",
   "language": "python",
   "name": "python3"
  },
  "language_info": {
   "codemirror_mode": {
    "name": "ipython",
    "version": 3
   },
   "file_extension": ".py",
   "mimetype": "text/x-python",
   "name": "python",
   "nbconvert_exporter": "python",
   "pygments_lexer": "ipython3",
   "version": "3.10.12"
  }
 },
 "nbformat": 4,
 "nbformat_minor": 4
}
